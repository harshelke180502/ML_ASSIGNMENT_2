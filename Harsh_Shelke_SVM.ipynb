{
  "nbformat": 4,
  "nbformat_minor": 0,
  "metadata": {
    "colab": {
      "provenance": [],
      "include_colab_link": true
    },
    "kernelspec": {
      "name": "python3",
      "display_name": "Python 3"
    },
    "language_info": {
      "name": "python"
    }
  },
  "cells": [
    {
      "cell_type": "markdown",
      "metadata": {
        "id": "view-in-github",
        "colab_type": "text"
      },
      "source": [
        "<a href=\"https://colab.research.google.com/github/harshelke180502/ML_ASSIGNMENT_2/blob/main/Harsh_Shelke_SVM.ipynb\" target=\"_parent\"><img src=\"https://colab.research.google.com/assets/colab-badge.svg\" alt=\"Open In Colab\"/></a>"
      ]
    },
    {
      "cell_type": "markdown",
      "source": [],
      "metadata": {
        "id": "zXCsSyD5Wx0c"
      }
    },
    {
      "cell_type": "markdown",
      "source": [
        "# Support Vector Machine (SVM) - Coding Assignment **[30 points]**\n",
        "\n",
        "## **Objective:**\n",
        "In this assignment, you will work with the **Predicting a Pulsar Star dataset** and use **Support Vector Machines (SVM)** to classify pulsar stars. You will:\n",
        "- Perform **Exploratory Data Analysis (EDA)**.\n",
        "- Preprocess the dataset (**handling missing values, outliers, and scaling**).\n",
        "- Implement **Soft-Margin SVM** and **Kernel SVM**.\n",
        "- Tune **hyperparameters** (C and kernel type) to optimize model performance.\n",
        "- Compare different models and interpret results.\n",
        "\n",
        "---\n",
        "\n",
        "## **1. Load Libraries and Dataset**"
      ],
      "metadata": {
        "id": "w57EuUBGWzJF"
      }
    },
    {
      "cell_type": "code",
      "source": [
        "\n",
        "!pip install ucimlrepo\n",
        "\n",
        "import pandas as pd\n",
        "from ucimlrepo import fetch_ucirepo\n",
        "\n",
        "# Fetched the dataset\n",
        "htru2 = fetch_ucirepo(id=372)  # HTRU2 Pulsar Dataset\n",
        "\n",
        "# Features (X) and Target (y) as DataFrames\n",
        "X = htru2.data.features  # Features DataFrame (contains 8 columns)\n",
        "y = htru2.data.targets   # Target DataFrame (1 column: 'class')\n",
        "\n",
        "# Combined X and y into a single DataFrame\n",
        "df = pd.concat([X, y], axis=1)\n",
        "\n",
        "# Displayed the first 5 rows\n",
        "print(\"First 5 rows of the dataset:\")\n",
        "print(df.head())\n",
        "\n",
        "# Dataset information\n",
        "print(\"\\nDataset information:\")\n",
        "print(df.info())\n",
        "\n",
        "# Class distribution (important for imbalance check)\n",
        "print(\"\\nClass distribution (0=Non-Pulsar, 1=Pulsar):\")\n",
        "print(df['class'].value_counts())"
      ],
      "metadata": {
        "colab": {
          "base_uri": "https://localhost:8080/"
        },
        "id": "ifhoGNUaupEB",
        "outputId": "febb1468-05db-45fe-9331-83db9b6bd5f5"
      },
      "execution_count": null,
      "outputs": [
        {
          "output_type": "stream",
          "name": "stdout",
          "text": [
            "Requirement already satisfied: ucimlrepo in /usr/local/lib/python3.11/dist-packages (0.0.7)\n",
            "Requirement already satisfied: pandas>=1.0.0 in /usr/local/lib/python3.11/dist-packages (from ucimlrepo) (2.2.2)\n",
            "Requirement already satisfied: certifi>=2020.12.5 in /usr/local/lib/python3.11/dist-packages (from ucimlrepo) (2025.1.31)\n",
            "Requirement already satisfied: numpy>=1.23.2 in /usr/local/lib/python3.11/dist-packages (from pandas>=1.0.0->ucimlrepo) (2.0.2)\n",
            "Requirement already satisfied: python-dateutil>=2.8.2 in /usr/local/lib/python3.11/dist-packages (from pandas>=1.0.0->ucimlrepo) (2.8.2)\n",
            "Requirement already satisfied: pytz>=2020.1 in /usr/local/lib/python3.11/dist-packages (from pandas>=1.0.0->ucimlrepo) (2025.2)\n",
            "Requirement already satisfied: tzdata>=2022.7 in /usr/local/lib/python3.11/dist-packages (from pandas>=1.0.0->ucimlrepo) (2025.2)\n",
            "Requirement already satisfied: six>=1.5 in /usr/local/lib/python3.11/dist-packages (from python-dateutil>=2.8.2->pandas>=1.0.0->ucimlrepo) (1.17.0)\n",
            "First 5 rows of the dataset:\n",
            "   Profile_mean  Profile_stdev  Profile_skewness  Profile_kurtosis   DM_mean  \\\n",
            "0    140.562500      55.683782         -0.234571         -0.699648  3.199833   \n",
            "1    102.507812      58.882430          0.465318         -0.515088  1.677258   \n",
            "2    103.015625      39.341649          0.323328          1.051164  3.121237   \n",
            "3    136.750000      57.178449         -0.068415         -0.636238  3.642977   \n",
            "4     88.726562      40.672225          0.600866          1.123492  1.178930   \n",
            "\n",
            "    DM_stdev  DM_skewness  DM_kurtosis  class  \n",
            "0  19.110426     7.975532    74.242225      0  \n",
            "1  14.860146    10.576487   127.393580      0  \n",
            "2  21.744669     7.735822    63.171909      0  \n",
            "3  20.959280     6.896499    53.593661      0  \n",
            "4  11.468720    14.269573   252.567306      0  \n",
            "\n",
            "Dataset information:\n",
            "<class 'pandas.core.frame.DataFrame'>\n",
            "RangeIndex: 17898 entries, 0 to 17897\n",
            "Data columns (total 9 columns):\n",
            " #   Column            Non-Null Count  Dtype  \n",
            "---  ------            --------------  -----  \n",
            " 0   Profile_mean      17898 non-null  float64\n",
            " 1   Profile_stdev     17898 non-null  float64\n",
            " 2   Profile_skewness  17898 non-null  float64\n",
            " 3   Profile_kurtosis  17898 non-null  float64\n",
            " 4   DM_mean           17898 non-null  float64\n",
            " 5   DM_stdev          17898 non-null  float64\n",
            " 6   DM_skewness       17898 non-null  float64\n",
            " 7   DM_kurtosis       17898 non-null  float64\n",
            " 8   class             17898 non-null  int64  \n",
            "dtypes: float64(8), int64(1)\n",
            "memory usage: 1.2 MB\n",
            "None\n",
            "\n",
            "Class distribution (0=Non-Pulsar, 1=Pulsar):\n",
            "class\n",
            "0    16259\n",
            "1     1639\n",
            "Name: count, dtype: int64\n"
          ]
        }
      ]
    },
    {
      "cell_type": "code",
      "source": [
        "print(\"First 5 rows of the dataset:\")\n",
        "df.head()"
      ],
      "metadata": {
        "colab": {
          "base_uri": "https://localhost:8080/",
          "height": 221
        },
        "id": "EA0h0pVjyN5v",
        "outputId": "f065a77e-3f1c-498a-c719-ccbefc263ea9"
      },
      "execution_count": null,
      "outputs": [
        {
          "output_type": "stream",
          "name": "stdout",
          "text": [
            "First 5 rows of the dataset:\n"
          ]
        },
        {
          "output_type": "execute_result",
          "data": {
            "text/plain": [
              "   Profile_mean  Profile_stdev  Profile_skewness  Profile_kurtosis   DM_mean  \\\n",
              "0    140.562500      55.683782         -0.234571         -0.699648  3.199833   \n",
              "1    102.507812      58.882430          0.465318         -0.515088  1.677258   \n",
              "2    103.015625      39.341649          0.323328          1.051164  3.121237   \n",
              "3    136.750000      57.178449         -0.068415         -0.636238  3.642977   \n",
              "4     88.726562      40.672225          0.600866          1.123492  1.178930   \n",
              "\n",
              "    DM_stdev  DM_skewness  DM_kurtosis  class  \n",
              "0  19.110426     7.975532    74.242225      0  \n",
              "1  14.860146    10.576487   127.393580      0  \n",
              "2  21.744669     7.735822    63.171909      0  \n",
              "3  20.959280     6.896499    53.593661      0  \n",
              "4  11.468720    14.269573   252.567306      0  "
            ],
            "text/html": [
              "\n",
              "  <div id=\"df-47cab788-5ad2-402b-b354-60f24d01a2eb\" class=\"colab-df-container\">\n",
              "    <div>\n",
              "<style scoped>\n",
              "    .dataframe tbody tr th:only-of-type {\n",
              "        vertical-align: middle;\n",
              "    }\n",
              "\n",
              "    .dataframe tbody tr th {\n",
              "        vertical-align: top;\n",
              "    }\n",
              "\n",
              "    .dataframe thead th {\n",
              "        text-align: right;\n",
              "    }\n",
              "</style>\n",
              "<table border=\"1\" class=\"dataframe\">\n",
              "  <thead>\n",
              "    <tr style=\"text-align: right;\">\n",
              "      <th></th>\n",
              "      <th>Profile_mean</th>\n",
              "      <th>Profile_stdev</th>\n",
              "      <th>Profile_skewness</th>\n",
              "      <th>Profile_kurtosis</th>\n",
              "      <th>DM_mean</th>\n",
              "      <th>DM_stdev</th>\n",
              "      <th>DM_skewness</th>\n",
              "      <th>DM_kurtosis</th>\n",
              "      <th>class</th>\n",
              "    </tr>\n",
              "  </thead>\n",
              "  <tbody>\n",
              "    <tr>\n",
              "      <th>0</th>\n",
              "      <td>140.562500</td>\n",
              "      <td>55.683782</td>\n",
              "      <td>-0.234571</td>\n",
              "      <td>-0.699648</td>\n",
              "      <td>3.199833</td>\n",
              "      <td>19.110426</td>\n",
              "      <td>7.975532</td>\n",
              "      <td>74.242225</td>\n",
              "      <td>0</td>\n",
              "    </tr>\n",
              "    <tr>\n",
              "      <th>1</th>\n",
              "      <td>102.507812</td>\n",
              "      <td>58.882430</td>\n",
              "      <td>0.465318</td>\n",
              "      <td>-0.515088</td>\n",
              "      <td>1.677258</td>\n",
              "      <td>14.860146</td>\n",
              "      <td>10.576487</td>\n",
              "      <td>127.393580</td>\n",
              "      <td>0</td>\n",
              "    </tr>\n",
              "    <tr>\n",
              "      <th>2</th>\n",
              "      <td>103.015625</td>\n",
              "      <td>39.341649</td>\n",
              "      <td>0.323328</td>\n",
              "      <td>1.051164</td>\n",
              "      <td>3.121237</td>\n",
              "      <td>21.744669</td>\n",
              "      <td>7.735822</td>\n",
              "      <td>63.171909</td>\n",
              "      <td>0</td>\n",
              "    </tr>\n",
              "    <tr>\n",
              "      <th>3</th>\n",
              "      <td>136.750000</td>\n",
              "      <td>57.178449</td>\n",
              "      <td>-0.068415</td>\n",
              "      <td>-0.636238</td>\n",
              "      <td>3.642977</td>\n",
              "      <td>20.959280</td>\n",
              "      <td>6.896499</td>\n",
              "      <td>53.593661</td>\n",
              "      <td>0</td>\n",
              "    </tr>\n",
              "    <tr>\n",
              "      <th>4</th>\n",
              "      <td>88.726562</td>\n",
              "      <td>40.672225</td>\n",
              "      <td>0.600866</td>\n",
              "      <td>1.123492</td>\n",
              "      <td>1.178930</td>\n",
              "      <td>11.468720</td>\n",
              "      <td>14.269573</td>\n",
              "      <td>252.567306</td>\n",
              "      <td>0</td>\n",
              "    </tr>\n",
              "  </tbody>\n",
              "</table>\n",
              "</div>\n",
              "    <div class=\"colab-df-buttons\">\n",
              "\n",
              "  <div class=\"colab-df-container\">\n",
              "    <button class=\"colab-df-convert\" onclick=\"convertToInteractive('df-47cab788-5ad2-402b-b354-60f24d01a2eb')\"\n",
              "            title=\"Convert this dataframe to an interactive table.\"\n",
              "            style=\"display:none;\">\n",
              "\n",
              "  <svg xmlns=\"http://www.w3.org/2000/svg\" height=\"24px\" viewBox=\"0 -960 960 960\">\n",
              "    <path d=\"M120-120v-720h720v720H120Zm60-500h600v-160H180v160Zm220 220h160v-160H400v160Zm0 220h160v-160H400v160ZM180-400h160v-160H180v160Zm440 0h160v-160H620v160ZM180-180h160v-160H180v160Zm440 0h160v-160H620v160Z\"/>\n",
              "  </svg>\n",
              "    </button>\n",
              "\n",
              "  <style>\n",
              "    .colab-df-container {\n",
              "      display:flex;\n",
              "      gap: 12px;\n",
              "    }\n",
              "\n",
              "    .colab-df-convert {\n",
              "      background-color: #E8F0FE;\n",
              "      border: none;\n",
              "      border-radius: 50%;\n",
              "      cursor: pointer;\n",
              "      display: none;\n",
              "      fill: #1967D2;\n",
              "      height: 32px;\n",
              "      padding: 0 0 0 0;\n",
              "      width: 32px;\n",
              "    }\n",
              "\n",
              "    .colab-df-convert:hover {\n",
              "      background-color: #E2EBFA;\n",
              "      box-shadow: 0px 1px 2px rgba(60, 64, 67, 0.3), 0px 1px 3px 1px rgba(60, 64, 67, 0.15);\n",
              "      fill: #174EA6;\n",
              "    }\n",
              "\n",
              "    .colab-df-buttons div {\n",
              "      margin-bottom: 4px;\n",
              "    }\n",
              "\n",
              "    [theme=dark] .colab-df-convert {\n",
              "      background-color: #3B4455;\n",
              "      fill: #D2E3FC;\n",
              "    }\n",
              "\n",
              "    [theme=dark] .colab-df-convert:hover {\n",
              "      background-color: #434B5C;\n",
              "      box-shadow: 0px 1px 3px 1px rgba(0, 0, 0, 0.15);\n",
              "      filter: drop-shadow(0px 1px 2px rgba(0, 0, 0, 0.3));\n",
              "      fill: #FFFFFF;\n",
              "    }\n",
              "  </style>\n",
              "\n",
              "    <script>\n",
              "      const buttonEl =\n",
              "        document.querySelector('#df-47cab788-5ad2-402b-b354-60f24d01a2eb button.colab-df-convert');\n",
              "      buttonEl.style.display =\n",
              "        google.colab.kernel.accessAllowed ? 'block' : 'none';\n",
              "\n",
              "      async function convertToInteractive(key) {\n",
              "        const element = document.querySelector('#df-47cab788-5ad2-402b-b354-60f24d01a2eb');\n",
              "        const dataTable =\n",
              "          await google.colab.kernel.invokeFunction('convertToInteractive',\n",
              "                                                    [key], {});\n",
              "        if (!dataTable) return;\n",
              "\n",
              "        const docLinkHtml = 'Like what you see? Visit the ' +\n",
              "          '<a target=\"_blank\" href=https://colab.research.google.com/notebooks/data_table.ipynb>data table notebook</a>'\n",
              "          + ' to learn more about interactive tables.';\n",
              "        element.innerHTML = '';\n",
              "        dataTable['output_type'] = 'display_data';\n",
              "        await google.colab.output.renderOutput(dataTable, element);\n",
              "        const docLink = document.createElement('div');\n",
              "        docLink.innerHTML = docLinkHtml;\n",
              "        element.appendChild(docLink);\n",
              "      }\n",
              "    </script>\n",
              "  </div>\n",
              "\n",
              "\n",
              "<div id=\"df-810c0d56-50cf-43b0-9e50-9c1692045e8f\">\n",
              "  <button class=\"colab-df-quickchart\" onclick=\"quickchart('df-810c0d56-50cf-43b0-9e50-9c1692045e8f')\"\n",
              "            title=\"Suggest charts\"\n",
              "            style=\"display:none;\">\n",
              "\n",
              "<svg xmlns=\"http://www.w3.org/2000/svg\" height=\"24px\"viewBox=\"0 0 24 24\"\n",
              "     width=\"24px\">\n",
              "    <g>\n",
              "        <path d=\"M19 3H5c-1.1 0-2 .9-2 2v14c0 1.1.9 2 2 2h14c1.1 0 2-.9 2-2V5c0-1.1-.9-2-2-2zM9 17H7v-7h2v7zm4 0h-2V7h2v10zm4 0h-2v-4h2v4z\"/>\n",
              "    </g>\n",
              "</svg>\n",
              "  </button>\n",
              "\n",
              "<style>\n",
              "  .colab-df-quickchart {\n",
              "      --bg-color: #E8F0FE;\n",
              "      --fill-color: #1967D2;\n",
              "      --hover-bg-color: #E2EBFA;\n",
              "      --hover-fill-color: #174EA6;\n",
              "      --disabled-fill-color: #AAA;\n",
              "      --disabled-bg-color: #DDD;\n",
              "  }\n",
              "\n",
              "  [theme=dark] .colab-df-quickchart {\n",
              "      --bg-color: #3B4455;\n",
              "      --fill-color: #D2E3FC;\n",
              "      --hover-bg-color: #434B5C;\n",
              "      --hover-fill-color: #FFFFFF;\n",
              "      --disabled-bg-color: #3B4455;\n",
              "      --disabled-fill-color: #666;\n",
              "  }\n",
              "\n",
              "  .colab-df-quickchart {\n",
              "    background-color: var(--bg-color);\n",
              "    border: none;\n",
              "    border-radius: 50%;\n",
              "    cursor: pointer;\n",
              "    display: none;\n",
              "    fill: var(--fill-color);\n",
              "    height: 32px;\n",
              "    padding: 0;\n",
              "    width: 32px;\n",
              "  }\n",
              "\n",
              "  .colab-df-quickchart:hover {\n",
              "    background-color: var(--hover-bg-color);\n",
              "    box-shadow: 0 1px 2px rgba(60, 64, 67, 0.3), 0 1px 3px 1px rgba(60, 64, 67, 0.15);\n",
              "    fill: var(--button-hover-fill-color);\n",
              "  }\n",
              "\n",
              "  .colab-df-quickchart-complete:disabled,\n",
              "  .colab-df-quickchart-complete:disabled:hover {\n",
              "    background-color: var(--disabled-bg-color);\n",
              "    fill: var(--disabled-fill-color);\n",
              "    box-shadow: none;\n",
              "  }\n",
              "\n",
              "  .colab-df-spinner {\n",
              "    border: 2px solid var(--fill-color);\n",
              "    border-color: transparent;\n",
              "    border-bottom-color: var(--fill-color);\n",
              "    animation:\n",
              "      spin 1s steps(1) infinite;\n",
              "  }\n",
              "\n",
              "  @keyframes spin {\n",
              "    0% {\n",
              "      border-color: transparent;\n",
              "      border-bottom-color: var(--fill-color);\n",
              "      border-left-color: var(--fill-color);\n",
              "    }\n",
              "    20% {\n",
              "      border-color: transparent;\n",
              "      border-left-color: var(--fill-color);\n",
              "      border-top-color: var(--fill-color);\n",
              "    }\n",
              "    30% {\n",
              "      border-color: transparent;\n",
              "      border-left-color: var(--fill-color);\n",
              "      border-top-color: var(--fill-color);\n",
              "      border-right-color: var(--fill-color);\n",
              "    }\n",
              "    40% {\n",
              "      border-color: transparent;\n",
              "      border-right-color: var(--fill-color);\n",
              "      border-top-color: var(--fill-color);\n",
              "    }\n",
              "    60% {\n",
              "      border-color: transparent;\n",
              "      border-right-color: var(--fill-color);\n",
              "    }\n",
              "    80% {\n",
              "      border-color: transparent;\n",
              "      border-right-color: var(--fill-color);\n",
              "      border-bottom-color: var(--fill-color);\n",
              "    }\n",
              "    90% {\n",
              "      border-color: transparent;\n",
              "      border-bottom-color: var(--fill-color);\n",
              "    }\n",
              "  }\n",
              "</style>\n",
              "\n",
              "  <script>\n",
              "    async function quickchart(key) {\n",
              "      const quickchartButtonEl =\n",
              "        document.querySelector('#' + key + ' button');\n",
              "      quickchartButtonEl.disabled = true;  // To prevent multiple clicks.\n",
              "      quickchartButtonEl.classList.add('colab-df-spinner');\n",
              "      try {\n",
              "        const charts = await google.colab.kernel.invokeFunction(\n",
              "            'suggestCharts', [key], {});\n",
              "      } catch (error) {\n",
              "        console.error('Error during call to suggestCharts:', error);\n",
              "      }\n",
              "      quickchartButtonEl.classList.remove('colab-df-spinner');\n",
              "      quickchartButtonEl.classList.add('colab-df-quickchart-complete');\n",
              "    }\n",
              "    (() => {\n",
              "      let quickchartButtonEl =\n",
              "        document.querySelector('#df-810c0d56-50cf-43b0-9e50-9c1692045e8f button');\n",
              "      quickchartButtonEl.style.display =\n",
              "        google.colab.kernel.accessAllowed ? 'block' : 'none';\n",
              "    })();\n",
              "  </script>\n",
              "</div>\n",
              "\n",
              "    </div>\n",
              "  </div>\n"
            ],
            "application/vnd.google.colaboratory.intrinsic+json": {
              "type": "dataframe",
              "variable_name": "df",
              "summary": "{\n  \"name\": \"df\",\n  \"rows\": 17898,\n  \"fields\": [\n    {\n      \"column\": \"Profile_mean\",\n      \"properties\": {\n        \"dtype\": \"number\",\n        \"std\": 25.652935359860106,\n        \"min\": 5.8125,\n        \"max\": 192.6171875,\n        \"num_unique_values\": 8626,\n        \"samples\": [\n          83.265625,\n          51.9453125,\n          120.75\n        ],\n        \"semantic_type\": \"\",\n        \"description\": \"\"\n      }\n    },\n    {\n      \"column\": \"Profile_stdev\",\n      \"properties\": {\n        \"dtype\": \"number\",\n        \"std\": 6.843189410087772,\n        \"min\": 24.77204176,\n        \"max\": 98.77891067,\n        \"num_unique_values\": 17862,\n        \"samples\": [\n          48.17823507,\n          50.13572825,\n          53.11199232\n        ],\n        \"semantic_type\": \"\",\n        \"description\": \"\"\n      }\n    },\n    {\n      \"column\": \"Profile_skewness\",\n      \"properties\": {\n        \"dtype\": \"number\",\n        \"std\": 1.0640397163731572,\n        \"min\": -1.876011181,\n        \"max\": 8.069522046,\n        \"num_unique_values\": 17897,\n        \"samples\": [\n          0.175111538,\n          2.02549836,\n          0.504295246\n        ],\n        \"semantic_type\": \"\",\n        \"description\": \"\"\n      }\n    },\n    {\n      \"column\": \"Profile_kurtosis\",\n      \"properties\": {\n        \"dtype\": \"number\",\n        \"std\": 6.167913247731734,\n        \"min\": -1.791885981,\n        \"max\": 68.10162173,\n        \"num_unique_values\": 17898,\n        \"samples\": [\n          -0.129815137,\n          8.652912976,\n          0.821088334\n        ],\n        \"semantic_type\": \"\",\n        \"description\": \"\"\n      }\n    },\n    {\n      \"column\": \"DM_mean\",\n      \"properties\": {\n        \"dtype\": \"number\",\n        \"std\": 29.472897150065084,\n        \"min\": 0.213210702,\n        \"max\": 223.3921405,\n        \"num_unique_values\": 9000,\n        \"samples\": [\n          3.387123746,\n          4.147157191,\n          3.241638796\n        ],\n        \"semantic_type\": \"\",\n        \"description\": \"\"\n      }\n    },\n    {\n      \"column\": \"DM_stdev\",\n      \"properties\": {\n        \"dtype\": \"number\",\n        \"std\": 19.470572330539127,\n        \"min\": 7.370432165,\n        \"max\": 110.6422106,\n        \"num_unique_values\": 17894,\n        \"samples\": [\n          16.7127396,\n          11.35208188,\n          11.14631778\n        ],\n        \"semantic_type\": \"\",\n        \"description\": \"\"\n      }\n    },\n    {\n      \"column\": \"DM_skewness\",\n      \"properties\": {\n        \"dtype\": \"number\",\n        \"std\": 4.5060918589927725,\n        \"min\": -3.139269611,\n        \"max\": 34.53984419,\n        \"num_unique_values\": 17895,\n        \"samples\": [\n          10.49423164,\n          8.479589229,\n          8.236539915\n        ],\n        \"semantic_type\": \"\",\n        \"description\": \"\"\n      }\n    },\n    {\n      \"column\": \"DM_kurtosis\",\n      \"properties\": {\n        \"dtype\": \"number\",\n        \"std\": 106.51453953467573,\n        \"min\": -1.976975603,\n        \"max\": 1191.000837,\n        \"num_unique_values\": 17895,\n        \"samples\": [\n          153.2811187,\n          92.51934407,\n          84.30255822\n        ],\n        \"semantic_type\": \"\",\n        \"description\": \"\"\n      }\n    },\n    {\n      \"column\": \"class\",\n      \"properties\": {\n        \"dtype\": \"number\",\n        \"std\": 0,\n        \"min\": 0,\n        \"max\": 1,\n        \"num_unique_values\": 2,\n        \"samples\": [\n          1,\n          0\n        ],\n        \"semantic_type\": \"\",\n        \"description\": \"\"\n      }\n    }\n  ]\n}"
            }
          },
          "metadata": {},
          "execution_count": 14
        }
      ]
    },
    {
      "cell_type": "code",
      "source": [
        "import numpy as np\n",
        "import pandas as pd\n",
        "import matplotlib.pyplot as plt\n",
        "import seaborn as sns\n",
        "from sklearn.model_selection import train_test_split\n",
        "from sklearn.preprocessing import StandardScaler\n",
        "from sklearn.svm import SVC\n",
        "\n",
        "from sklearn.metrics import accuracy_score, classification_report, confusion_matrix\n",
        "# # Load dataset\n",
        "# data_path = \"/content/HTRU_2.csv\"\n",
        "# df = pd.read_csv(data_path)\n",
        "\n",
        "# # Display first 5 rows\n",
        "# df.head()"
      ],
      "metadata": {
        "id": "v6ZksyBBX2eK"
      },
      "execution_count": null,
      "outputs": []
    },
    {
      "cell_type": "markdown",
      "source": [
        "## **2. Exploratory Data Analysis (EDA)**\n",
        "### Task 1: Check dataset dimensions, column names, and missing values."
      ],
      "metadata": {
        "id": "rwoIINCTYE1Z"
      }
    },
    {
      "cell_type": "code",
      "source": [
        "# Dataset shape\n",
        "print(\"Dataset shape:\", df.shape)"
      ],
      "metadata": {
        "id": "35ThMGpNYYbD",
        "colab": {
          "base_uri": "https://localhost:8080/"
        },
        "outputId": "a9b9ada2-c6d9-43b7-b2e7-16b3edbe2f63"
      },
      "execution_count": null,
      "outputs": [
        {
          "output_type": "stream",
          "name": "stdout",
          "text": [
            "Dataset shape: (17898, 9)\n"
          ]
        }
      ]
    },
    {
      "cell_type": "code",
      "source": [
        "print(\"Column names:\", df.columns)"
      ],
      "metadata": {
        "colab": {
          "base_uri": "https://localhost:8080/"
        },
        "id": "G9KLB8IRyiix",
        "outputId": "ca8dcd34-08ba-478e-cdbe-effcaad1ace7"
      },
      "execution_count": null,
      "outputs": [
        {
          "output_type": "stream",
          "name": "stdout",
          "text": [
            "Column names: Index(['Profile_mean', 'Profile_stdev', 'Profile_skewness', 'Profile_kurtosis',\n",
            "       'DM_mean', 'DM_stdev', 'DM_skewness', 'DM_kurtosis', 'class'],\n",
            "      dtype='object')\n"
          ]
        }
      ]
    },
    {
      "cell_type": "code",
      "source": [
        "print(\"Missing values:\\n\", df.isnull().sum())"
      ],
      "metadata": {
        "colab": {
          "base_uri": "https://localhost:8080/"
        },
        "id": "y7jue5edyniF",
        "outputId": "f1940977-a175-4539-a35e-f3f5d843d43d"
      },
      "execution_count": null,
      "outputs": [
        {
          "output_type": "stream",
          "name": "stdout",
          "text": [
            "Missing values:\n",
            " Profile_mean        0\n",
            "Profile_stdev       0\n",
            "Profile_skewness    0\n",
            "Profile_kurtosis    0\n",
            "DM_mean             0\n",
            "DM_stdev            0\n",
            "DM_skewness         0\n",
            "DM_kurtosis         0\n",
            "class               0\n",
            "dtype: int64\n"
          ]
        }
      ]
    },
    {
      "cell_type": "code",
      "source": [
        "print(\"Summary statistics:\\n\", df.describe())"
      ],
      "metadata": {
        "colab": {
          "base_uri": "https://localhost:8080/"
        },
        "id": "AglyVhGgynvq",
        "outputId": "4b9f80bd-4962-4cd4-c6a5-719f89aeeaef"
      },
      "execution_count": null,
      "outputs": [
        {
          "output_type": "stream",
          "name": "stdout",
          "text": [
            "Summary statistics:\n",
            "        Profile_mean  Profile_stdev  Profile_skewness  Profile_kurtosis  \\\n",
            "count  17898.000000   17898.000000      17898.000000      17898.000000   \n",
            "mean     111.079968      46.549532          0.477857          1.770279   \n",
            "std       25.652935       6.843189          1.064040          6.167913   \n",
            "min        5.812500      24.772042         -1.876011         -1.791886   \n",
            "25%      100.929688      42.376018          0.027098         -0.188572   \n",
            "50%      115.078125      46.947479          0.223240          0.198710   \n",
            "75%      127.085938      51.023202          0.473325          0.927783   \n",
            "max      192.617188      98.778911          8.069522         68.101622   \n",
            "\n",
            "            DM_mean      DM_stdev   DM_skewness   DM_kurtosis         class  \n",
            "count  17898.000000  17898.000000  17898.000000  17898.000000  17898.000000  \n",
            "mean      12.614400     26.326515      8.303556    104.857709      0.091574  \n",
            "std       29.472897     19.470572      4.506092    106.514540      0.288432  \n",
            "min        0.213211      7.370432     -3.139270     -1.976976      0.000000  \n",
            "25%        1.923077     14.437332      5.781506     34.960504      0.000000  \n",
            "50%        2.801839     18.461316      8.433515     83.064556      0.000000  \n",
            "75%        5.464256     28.428104     10.702959    139.309330      0.000000  \n",
            "max      223.392141    110.642211     34.539844   1191.000837      1.000000  \n"
          ]
        }
      ]
    },
    {
      "cell_type": "code",
      "source": [],
      "metadata": {
        "id": "ustAf87szQPz"
      },
      "execution_count": null,
      "outputs": []
    },
    {
      "cell_type": "code",
      "source": [],
      "metadata": {
        "id": "Y_FVi7w4zQSl"
      },
      "execution_count": null,
      "outputs": []
    },
    {
      "cell_type": "markdown",
      "source": [
        "\"\"\"\n",
        "### **Task 2: Preprocess the dataset**\n",
        "1. Remove leading spaces in column names.\n",
        "2. Rename columns to short and meaningful names.\n",
        "3. Check for class imbalance in the `target_class` column.\n",
        "\"\"\""
      ],
      "metadata": {
        "id": "UE7amOgWYgfd"
      }
    },
    {
      "cell_type": "code",
      "source": [
        "# Remove leading spaces\n",
        "df.columns = df.columns.str.strip()\n",
        "df.columns\n",
        "\n",
        "new_column_names = {\n",
        "    'Mean_IP': 'mean_ip',\n",
        "    'SD_IP': 'std_ip',\n",
        "    'Kurtosis_IP': 'kurtosis_ip',\n",
        "    'Skewness_IP': 'skewness_ip',\n",
        "    'Mean_DMSNR': 'mean_dmsnr',\n",
        "    'SD_DMSNR': 'std_dmsnr',\n",
        "    'Kurtosis_DMSNR': 'kurtosis_dmsnr',\n",
        "    'Skewness_DMSNR': 'skewness_dmsnr',\n",
        "    'class': 'target_class'\n",
        "}\n",
        "df = df.rename(columns=new_column_names)\n",
        "\n",
        "# 3. Checked for class imbalance\n",
        "class_distribution = df['target_class'].value_counts(normalize=True) * 100\n",
        "\n",
        "print(\"Cleaned Column Names:\", df.columns.tolist())\n",
        "print(\"\\nClass Distribution (%):\")\n",
        "print(class_distribution)\n",
        "print(\"\\nAbsolute Counts:\")\n",
        "print(df['target_class'].value_counts())\n",
        "\n",
        "# Visualized the class imbalance using a barplot\n",
        "import matplotlib.pyplot as plt\n",
        "df['target_class'].value_counts().plot(kind='bar',\n",
        "                                     color=['skyblue', 'salmon'],\n",
        "                                     title='Class Distribution (0=Non-Pulsar, 1=Pulsar)')\n",
        "plt.xticks(rotation=0)\n",
        "plt.ylabel('Count')\n",
        "plt.show()\n"
      ],
      "metadata": {
        "id": "ThLys_umZYoq",
        "colab": {
          "base_uri": "https://localhost:8080/",
          "height": 713
        },
        "outputId": "010b3476-b0fc-4573-c68c-2d25f2819ca3"
      },
      "execution_count": null,
      "outputs": [
        {
          "output_type": "stream",
          "name": "stdout",
          "text": [
            "Cleaned Column Names: ['Profile_mean', 'Profile_stdev', 'Profile_skewness', 'Profile_kurtosis', 'DM_mean', 'DM_stdev', 'DM_skewness', 'DM_kurtosis', 'target_class']\n",
            "\n",
            "Class Distribution (%):\n",
            "target_class\n",
            "0    90.842552\n",
            "1     9.157448\n",
            "Name: proportion, dtype: float64\n",
            "\n",
            "Absolute Counts:\n",
            "target_class\n",
            "0    16259\n",
            "1     1639\n",
            "Name: count, dtype: int64\n"
          ]
        },
        {
          "output_type": "display_data",
          "data": {
            "text/plain": [
              "<Figure size 640x480 with 1 Axes>"
            ],
            "image/png": "[encoded data removed]"
          },
          "metadata": {}
        }
      ]
    },
    {
      "cell_type": "markdown",
      "source": [
        "## **3. Handle Outliers Using Boxplots**\n",
        "### Task 3: Visualize and handle outliers in continuous features.\n",
        "\"\"\""
      ],
      "metadata": {
        "id": "Kq576XMoZbjH"
      }
    },
    {
      "cell_type": "code",
      "source": [
        "continuous_features = [col for col in df.columns if col != 'target_class']\n",
        "\n",
        "# 2. Visualize outliers using boxplots\n",
        "plt.figure(figsize=(15, 8))\n",
        "df[continuous_features].boxplot()\n",
        "plt.title('Boxplot of Continuous Features (Before Outlier Handling)')\n",
        "plt.xticks(rotation=45)\n",
        "plt.ylabel('Value Range')\n",
        "plt.show()\n",
        "\n",
        "# 3. Handle outliers using IQR method\n",
        "def handle_outliers(df, feature):\n",
        "    Q1 = df[feature].quantile(0.25)\n",
        "    Q3 = df[feature].quantile(0.75)\n",
        "    IQR = Q3 - Q1 #calculated the inter quartile range\n",
        "    lower_bound = Q1 - 1.5 * IQR\n",
        "    upper_bound = Q3 + 1.5 * IQR\n",
        "\n",
        "    # Capping the outliers\n",
        "    df[feature] = np.where(df[feature] < lower_bound, lower_bound,\n",
        "                          np.where(df[feature] > upper_bound, upper_bound,\n",
        "                                  df[feature]))\n",
        "    return df\n",
        "\n",
        "# Applied to all continuous features\n",
        "for feature in continuous_features:\n",
        "    df = handle_outliers(df, feature)\n",
        "\n",
        "# 4. Visualize after outlier handling\n",
        "plt.figure(figsize=(15, 8))\n",
        "df[continuous_features].boxplot()\n",
        "plt.title('Boxplot of Continuous Features (After Outlier Handling)')\n",
        "plt.xticks(rotation=45)\n",
        "plt.ylabel('Value Range')\n",
        "plt.show()\n",
        "\n",
        "# 5. Compare statistics\n",
        "print(\"\\nStatistics Before Outlier Handling:\")\n",
        "print(df[continuous_features].describe().loc[['min', 'max']])\n",
        "\n",
        "print(\"\\nStatistics After Outlier Handling:\")\n",
        "print(df[continuous_features].describe().loc[['min', 'max']])"
      ],
      "metadata": {
        "id": "xqhz8kBXZgay",
        "colab": {
          "base_uri": "https://localhost:8080/",
          "height": 1000
        },
        "outputId": "a01ec19a-3a5f-4ce6-de85-de3a62c3e275"
      },
      "execution_count": null,
      "outputs": [
        {
          "output_type": "display_data",
          "data": {
            "text/plain": [
              "<Figure size 1500x800 with 1 Axes>"
            ],
            "image/png": "[encoded data removed]"
          },
          "metadata": {}
        },
        {
          "output_type": "display_data",
          "data": {
            "text/plain": [
              "<Figure size 1500x800 with 1 Axes>"
            ],
            "image/png": "[encoded data removed]"
          },
          "metadata": {}
        },
        {
          "output_type": "stream",
          "name": "stdout",
          "text": [
            "\n",
            "Statistics Before Outlier Handling:\n",
            "     Profile_mean  Profile_stdev  Profile_skewness  Profile_kurtosis  \\\n",
            "min     61.695312      29.405241         -0.642242         -1.791886   \n",
            "max    166.320312      63.993979          1.142666          2.602315   \n",
            "\n",
            "       DM_mean   DM_stdev  DM_skewness  DM_kurtosis  \n",
            "min   0.213211   7.370432    -1.600675    -1.976976  \n",
            "max  10.776024  49.414263    18.085140   295.832570  \n",
            "\n",
            "Statistics After Outlier Handling:\n",
            "     Profile_mean  Profile_stdev  Profile_skewness  Profile_kurtosis  \\\n",
            "min     61.695312      29.405241         -0.642242         -1.791886   \n",
            "max    166.320312      63.993979          1.142666          2.602315   \n",
            "\n",
            "       DM_mean   DM_stdev  DM_skewness  DM_kurtosis  \n",
            "min   0.213211   7.370432    -1.600675    -1.976976  \n",
            "max  10.776024  49.414263    18.085140   295.832570  \n"
          ]
        }
      ]
    },
    {
      "cell_type": "markdown",
      "source": [
        "\"\"\"\n",
        "## **4. Split Data and Scale Features**\n",
        "### Task 4: Split the dataset into training and test sets (80-20 split) and apply **Standard Scaling**.\n",
        "\"\"\""
      ],
      "metadata": {
        "id": "3rW33bDWZl3f"
      }
    },
    {
      "cell_type": "code",
      "source": [
        "from sklearn.model_selection import train_test_split\n",
        "from sklearn.preprocessing import StandardScaler\n",
        "\n",
        "# Splitted the data into features (X) and target (y)\n",
        "X = df.drop('target_class', axis=1)\n",
        "y = df['target_class']\n",
        "\n",
        "# Split into train (80%) and test (20%) sets\n",
        "X_train, X_test, y_train, y_test = train_test_split(\n",
        "    X, y,\n",
        "    test_size=0.2,\n",
        "    random_state=42,\n",
        "    stratify=y  # Preserve class distribution in splits\n",
        ")\n",
        "\n",
        "# Initialized and fitted Standard scaler on training data\n",
        "scaler = StandardScaler()\n",
        "X_train_scaled = scaler.fit_transform(X_train)\n",
        "X_test_scaled = scaler.transform(X_test)  # Applied same scaling to test data\n",
        "\n",
        "# Converted back to DataFrames for better readability (optional)\n",
        "X_train_scaled = pd.DataFrame(X_train_scaled, columns=X.columns)\n",
        "X_test_scaled = pd.DataFrame(X_test_scaled, columns=X.columns)\n",
        "\n",
        "print(f\"Training set shape: {X_train_scaled.shape}\")\n",
        "print(f\"Test set shape: {X_test_scaled.shape}\")\n",
        "\n",
        "# Verified class distribution(or imbalance) in splits\n",
        "print(\"\\nTraining set class distribution:\")\n",
        "print(y_train.value_counts(normalize=True))\n",
        "print(\"\\nTest set class distribution:\")\n",
        "print(y_test.value_counts(normalize=True))"
      ],
      "metadata": {
        "id": "3-gMVmFMZng_",
        "colab": {
          "base_uri": "https://localhost:8080/"
        },
        "outputId": "58337b2d-58d2-4ae9-c7da-53c5ae61ab8c"
      },
      "execution_count": null,
      "outputs": [
        {
          "output_type": "stream",
          "name": "stdout",
          "text": [
            "Training set shape: (14318, 8)\n",
            "Test set shape: (3580, 8)\n",
            "\n",
            "Training set class distribution:\n",
            "target_class\n",
            "0    0.908437\n",
            "1    0.091563\n",
            "Name: proportion, dtype: float64\n",
            "\n",
            "Test set class distribution:\n",
            "target_class\n",
            "0    0.90838\n",
            "1    0.09162\n",
            "Name: proportion, dtype: float64\n"
          ]
        }
      ]
    },
    {
      "cell_type": "markdown",
      "source": [
        "\"\"\"\n",
        "## **5. Train Support Vector Machine (SVM) Classifier**\n",
        "### Task 5: Train an SVM model with **default hyperparameters (C=1.0, RBF Kernel)** and evaluate performance.\n",
        "\"\"\""
      ],
      "metadata": {
        "id": "d2_QvY0VZ2TV"
      }
    },
    {
      "cell_type": "code",
      "source": [
        "from sklearn.svm import SVC\n",
        "from sklearn.metrics import classification_report, confusion_matrix, accuracy_score\n",
        "\n",
        "# Initialize SVM with default parameters (C=1.0, RBF kernel)\n",
        "svm_model = SVC(random_state=42)\n",
        "\n",
        "# Train the model on scaled training data\n",
        "svm_model.fit(X_train_scaled, y_train)\n",
        "\n",
        "# Predictions on training and test sets\n",
        "y_train_pred = svm_model.predict(X_train_scaled)\n",
        "y_test_pred = svm_model.predict(X_test_scaled)\n",
        "\n",
        "# Evaluate performance\n",
        "print(\"------ Training Set Performance ------\")\n",
        "print(f\"Accuracy: {accuracy_score(y_train, y_train_pred):.4f}\")\n",
        "print(\"\\nClassification Report:\")\n",
        "print(classification_report(y_train, y_train_pred))\n",
        "print(\"\\nConfusion Matrix:\")\n",
        "print(confusion_matrix(y_train, y_train_pred))\n",
        "\n",
        "print(\"\\n------ Test Set Performance ------\")\n",
        "print(f\"Accuracy: {accuracy_score(y_test, y_test_pred):.4f}\")\n",
        "print(\"\\nClassification Report:\")\n",
        "print(classification_report(y_test, y_test_pred))\n",
        "print(\"\\nConfusion Matrix:\")\n",
        "print(confusion_matrix(y_test, y_test_pred))"
      ],
      "metadata": {
        "id": "_rpCgte6Z187",
        "colab": {
          "base_uri": "https://localhost:8080/"
        },
        "outputId": "de021c45-a7e8-45bf-fd13-cd01ff46ecd8"
      },
      "execution_count": null,
      "outputs": [
        {
          "output_type": "stream",
          "name": "stdout",
          "text": [
            "------ Training Set Performance ------\n",
            "Accuracy: 0.9792\n",
            "\n",
            "Classification Report:\n",
            "              precision    recall  f1-score   support\n",
            "\n",
            "           0       0.98      0.99      0.99     13007\n",
            "           1       0.92      0.84      0.88      1311\n",
            "\n",
            "    accuracy                           0.98     14318\n",
            "   macro avg       0.95      0.92      0.93     14318\n",
            "weighted avg       0.98      0.98      0.98     14318\n",
            "\n",
            "\n",
            "Confusion Matrix:\n",
            "[[12914    93]\n",
            " [  205  1106]]\n",
            "\n",
            "------ Test Set Performance ------\n",
            "Accuracy: 0.9774\n",
            "\n",
            "Classification Report:\n",
            "              precision    recall  f1-score   support\n",
            "\n",
            "           0       0.98      0.99      0.99      3252\n",
            "           1       0.91      0.83      0.87       328\n",
            "\n",
            "    accuracy                           0.98      3580\n",
            "   macro avg       0.95      0.91      0.93      3580\n",
            "weighted avg       0.98      0.98      0.98      3580\n",
            "\n",
            "\n",
            "Confusion Matrix:\n",
            "[[3226   26]\n",
            " [  55  273]]\n"
          ]
        }
      ]
    },
    {
      "cell_type": "markdown",
      "source": [
        "\"\"\"\n",
        "## **6. Tune Hyperparameters: Kernel and C Value**\n",
        "### Task 6: Train SVM with **RBF kernel and C=100** and compare performance.\n",
        "\"\"\""
      ],
      "metadata": {
        "id": "GDg2TxYRaGUU"
      }
    },
    {
      "cell_type": "code",
      "source": [
        "from sklearn.svm import SVC\n",
        "from sklearn.metrics import classification_report, confusion_matrix\n",
        "\n",
        "# Initialized SVM with RBF kernel and C=100 as requested above\n",
        "svm_tuned = SVC(\n",
        "    kernel='rbf',\n",
        "    C=100,\n",
        "    random_state=42\n",
        ")\n",
        "\n",
        "# Trained the model\n",
        "svm_tuned.fit(X_train_scaled, y_train)\n",
        "\n",
        "# Predictions\n",
        "y_test_pred_tuned = svm_tuned.predict(X_test_scaled)\n",
        "\n",
        "# Performance evaluation\n",
        "print(\"------ Test Set Performance (C=100) ------\")\n",
        "print(f\"Accuracy: {accuracy_score(y_test, y_test_pred_tuned):.4f}\")\n",
        "print(\"\\nClassification Report:\")\n",
        "print(classification_report(y_test, y_test_pred_tuned))\n",
        "print(\"\\nConfusion Matrix for Testing data:\")\n",
        "print(confusion_matrix(y_test, y_test_pred_tuned))\n",
        "\n",
        "# Compared with default C=1.0 (from Task 5)\n",
        "print(\"\\n------ Comparison with Default C=1.0 ------\")\n",
        "print(f\"Default Accuracy (C=1.0): {accuracy_score(y_test, y_test_pred):.4f}\")\n",
        "print(f\"Tuned Accuracy (C=100): {accuracy_score(y_test, y_test_pred_tuned):.4f}\")"
      ],
      "metadata": {
        "id": "VZZ6i9FeaU8P",
        "colab": {
          "base_uri": "https://localhost:8080/"
        },
        "outputId": "9b1c2265-23be-4d57-9a45-508dcecb8290"
      },
      "execution_count": null,
      "outputs": [
        {
          "output_type": "stream",
          "name": "stdout",
          "text": [
            "------ Test Set Performance (C=100) ------\n",
            "Accuracy: 0.9793\n",
            "\n",
            "Classification Report:\n",
            "              precision    recall  f1-score   support\n",
            "\n",
            "           0       0.99      0.99      0.99      3252\n",
            "           1       0.91      0.86      0.88       328\n",
            "\n",
            "    accuracy                           0.98      3580\n",
            "   macro avg       0.95      0.93      0.94      3580\n",
            "weighted avg       0.98      0.98      0.98      3580\n",
            "\n",
            "\n",
            "Confusion Matrix for Testing data:\n",
            "[[3224   28]\n",
            " [  46  282]]\n",
            "\n",
            "------ Comparison with Default C=1.0 ------\n",
            "Default Accuracy (C=1.0): 0.9774\n",
            "Tuned Accuracy (C=100): 0.9793\n"
          ]
        }
      ]
    },
    {
      "cell_type": "markdown",
      "source": [
        "### Task 7: Experiment with different values of C (C=10, C=1000) and compare the accuracy.\n",
        "Try modifying the C value and analyze its impact on overfitting.\n"
      ],
      "metadata": {
        "id": "DZIM3qe7aVsb"
      }
    },
    {
      "cell_type": "code",
      "source": [
        "from sklearn.svm import SVC\n",
        "\n",
        "# Defined the C values to test as per the above requirements\n",
        "c_values = [10, 1000]\n",
        "\n",
        "for c in c_values:\n",
        "    print(f\"\\n====== Training SVM with C={c} ======\")\n",
        "\n",
        "    # Initialized and trained the SVM\n",
        "    svm_model = SVC(C=c, kernel='rbf', random_state=42)\n",
        "    svm_model.fit(X_train_scaled, y_train)\n",
        "\n",
        "    # Predictions\n",
        "    y_train_pred = svm_model.predict(X_train_scaled)\n",
        "    y_test_pred = svm_model.predict(X_test_scaled)\n",
        "\n",
        "    # Calculated accuracies\n",
        "    train_accuracy = accuracy_score(y_train, y_train_pred)\n",
        "    test_accuracy = accuracy_score(y_test, y_test_pred)\n",
        "\n",
        "\n",
        "\n"
      ],
      "metadata": {
        "id": "DsGHq4_Qayff",
        "colab": {
          "base_uri": "https://localhost:8080/"
        },
        "outputId": "23427ef8-f112-4006-e2c5-7e0338e083dc"
      },
      "execution_count": null,
      "outputs": [
        {
          "output_type": "stream",
          "name": "stdout",
          "text": [
            "\n",
            "====== Training SVM with C=10 ======\n",
            "\n",
            "====== Training SVM with C=1000 ======\n"
          ]
        }
      ]
    },
    {
      "cell_type": "markdown",
      "source": [
        "## **8. Compare Train and Test Accuracy to Detect Overfitting**\n",
        "\n",
        "---\n",
        "\n"
      ],
      "metadata": {
        "id": "f6wLEbqQa00F"
      }
    },
    {
      "cell_type": "code",
      "source": [
        "# Compared the train and test accuraccies and also printed the difference between the train and test acuraccies to check if overfitting exists or not for 2 different values of C as requested in Task 6.\n",
        "\n",
        "for c in c_values:\n",
        "    print(f\"\\n====== Training SVM with C={c} ======\")\n",
        "\n",
        "    print(f\"Training Accuracy: {train_accuracy:.4f}\")\n",
        "    print(f\"Test Accuracy: {test_accuracy:.4f}\")\n",
        "    print(f\"Difference (Train - Test): {train_accuracy - test_accuracy:.4f}\")\n"
      ],
      "metadata": {
        "id": "cmKJIkDQa7Y6",
        "colab": {
          "base_uri": "https://localhost:8080/"
        },
        "outputId": "bef55f09-1a70-41a5-afff-b6c56874889e"
      },
      "execution_count": null,
      "outputs": [
        {
          "output_type": "stream",
          "name": "stdout",
          "text": [
            "\n",
            "====== Training SVM with C=10 ======\n",
            "Training Accuracy: 0.9834\n",
            "Test Accuracy: 0.9804\n",
            "Difference (Train - Test): 0.0030\n",
            "\n",
            "====== Training SVM with C=1000 ======\n",
            "Training Accuracy: 0.9834\n",
            "Test Accuracy: 0.9804\n",
            "Difference (Train - Test): 0.0030\n"
          ]
        }
      ]
    },
    {
      "cell_type": "markdown",
      "source": [
        "## **9. Print training set accuracy and compare with test accuracy.**\n",
        "\n",
        "---"
      ],
      "metadata": {
        "id": "xzY4yys2a8_R"
      }
    },
    {
      "cell_type": "code",
      "source": [
        "\n",
        "for c in c_values:\n",
        "# Classification report\n",
        "    print(\"\\nTest Set Classification Report for \",c,\" :\")\n",
        "    print(classification_report(y_test, y_test_pred))\n"
      ],
      "metadata": {
        "id": "4bo07EWVctlM",
        "colab": {
          "base_uri": "https://localhost:8080/"
        },
        "outputId": "695e7bb9-e060-4b4b-ac3e-6da2230c020b"
      },
      "execution_count": null,
      "outputs": [
        {
          "output_type": "stream",
          "name": "stdout",
          "text": [
            "\n",
            "Test Set Classification Report for  10  :\n",
            "              precision    recall  f1-score   support\n",
            "\n",
            "           0       0.99      0.99      0.99      3252\n",
            "           1       0.91      0.87      0.89       328\n",
            "\n",
            "    accuracy                           0.98      3580\n",
            "   macro avg       0.95      0.93      0.94      3580\n",
            "weighted avg       0.98      0.98      0.98      3580\n",
            "\n",
            "\n",
            "Test Set Classification Report for  1000  :\n",
            "              precision    recall  f1-score   support\n",
            "\n",
            "           0       0.99      0.99      0.99      3252\n",
            "           1       0.91      0.87      0.89       328\n",
            "\n",
            "    accuracy                           0.98      3580\n",
            "   macro avg       0.95      0.93      0.94      3580\n",
            "weighted avg       0.98      0.98      0.98      3580\n",
            "\n"
          ]
        }
      ]
    },
    {
      "cell_type": "markdown",
      "source": [
        "\"\"\"\n",
        "## **10. Tune Hyperparameters: Kernel and C Value**\n",
        "###"
      ],
      "metadata": {
        "id": "uMqcDWq9ismo"
      }
    },
    {
      "cell_type": "code",
      "source": [
        "from sklearn.svm import SVC\n",
        "from sklearn.metrics import accuracy_score, classification_report\n",
        "\n",
        "kernels = ['rbf']\n",
        "c_values = [1.0, 10.0, 100.0]\n",
        "\n",
        "for kernel in kernels:\n",
        "    for c in c_values:\n",
        "        print(f\"\\n====== Training SVM with Kernel={kernel}, C={c} ======\")\n",
        "\n",
        "        # Initialize and train SVM\n",
        "        svm_model = SVC(kernel=kernel, C=c, random_state=42)\n",
        "        svm_model.fit(X_train_scaled, y_train)\n",
        "\n",
        "        # Predictions\n",
        "        y_train_pred = svm_model.predict(X_train_scaled)\n",
        "        y_test_pred = svm_model.predict(X_test_scaled)\n",
        "\n",
        "        # Calculate accuracies\n",
        "        train_accuracy = accuracy_score(y_train, y_train_pred)\n",
        "        test_accuracy = accuracy_score(y_test, y_test_pred)\n",
        "\n",
        "        print(f\"Training Accuracy: {train_accuracy:.4f}\")\n",
        "        print(f\"Test Accuracy: {test_accuracy:.4f}\")\n",
        "        print(f\"Gap (Train - Test): {train_accuracy - test_accuracy:.4f}\")\n",
        "\n",
        "        # Classification report\n",
        "        print(\"\\nClassification Report:\")\n",
        "        print(classification_report(y_test, y_test_pred))\n",
        "\n",
        "        # Confusion matrix\n",
        "        print(\"Confusion Matrix:\")\n",
        "        print(confusion_matrix(y_test, y_test_pred))"
      ],
      "metadata": {
        "id": "cwKLTB98i0JZ",
        "colab": {
          "base_uri": "https://localhost:8080/"
        },
        "outputId": "ac787d80-d9e6-498e-94c3-c1ab77debd7f"
      },
      "execution_count": null,
      "outputs": [
        {
          "output_type": "stream",
          "name": "stdout",
          "text": [
            "\n",
            "====== Training SVM with Kernel=rbf, C=1.0 ======\n",
            "Training Accuracy: 0.9792\n",
            "Test Accuracy: 0.9774\n",
            "Gap (Train - Test): 0.0018\n",
            "\n",
            "Classification Report:\n",
            "              precision    recall  f1-score   support\n",
            "\n",
            "           0       0.98      0.99      0.99      3252\n",
            "           1       0.91      0.83      0.87       328\n",
            "\n",
            "    accuracy                           0.98      3580\n",
            "   macro avg       0.95      0.91      0.93      3580\n",
            "weighted avg       0.98      0.98      0.98      3580\n",
            "\n",
            "Confusion Matrix:\n",
            "[[3226   26]\n",
            " [  55  273]]\n",
            "\n",
            "====== Training SVM with Kernel=rbf, C=10.0 ======\n",
            "Training Accuracy: 0.9806\n",
            "Test Accuracy: 0.9779\n",
            "Gap (Train - Test): 0.0027\n",
            "\n",
            "Classification Report:\n",
            "              precision    recall  f1-score   support\n",
            "\n",
            "           0       0.98      0.99      0.99      3252\n",
            "           1       0.91      0.84      0.87       328\n",
            "\n",
            "    accuracy                           0.98      3580\n",
            "   macro avg       0.95      0.92      0.93      3580\n",
            "weighted avg       0.98      0.98      0.98      3580\n",
            "\n",
            "Confusion Matrix:\n",
            "[[3225   27]\n",
            " [  52  276]]\n",
            "\n",
            "====== Training SVM with Kernel=rbf, C=100.0 ======\n",
            "Training Accuracy: 0.9818\n",
            "Test Accuracy: 0.9793\n",
            "Gap (Train - Test): 0.0025\n",
            "\n",
            "Classification Report:\n",
            "              precision    recall  f1-score   support\n",
            "\n",
            "           0       0.99      0.99      0.99      3252\n",
            "           1       0.91      0.86      0.88       328\n",
            "\n",
            "    accuracy                           0.98      3580\n",
            "   macro avg       0.95      0.93      0.94      3580\n",
            "weighted avg       0.98      0.98      0.98      3580\n",
            "\n",
            "Confusion Matrix:\n",
            "[[3224   28]\n",
            " [  46  282]]\n"
          ]
        }
      ]
    },
    {
      "cell_type": "markdown",
      "source": [
        "\"\"\"\n",
        "## **11. Train SVM with Different Kernels**\n",
        "###  Train SVM with a **RBF and sigmoid kernel** and compare results.\n",
        "\"\"\""
      ],
      "metadata": {
        "id": "qt7Wxscsi0f2"
      }
    },
    {
      "cell_type": "code",
      "source": [
        "from sklearn.svm import SVC\n",
        "from sklearn.metrics import accuracy_score, classification_report\n",
        "\n",
        "kernels = ['rbf', 'sigmoid','linear']\n",
        "c_values = [1.0, 10.0, 100.0]\n",
        "\n",
        "for kernel in kernels:\n",
        "    for c in c_values:\n",
        "        print(f\"\\n====== Training SVM with Kernel={kernel}, C={c} ======\")\n",
        "\n",
        "        # Initialize and train SVM\n",
        "        svm_model = SVC(kernel=kernel, C=c, random_state=42)\n",
        "        svm_model.fit(X_train_scaled, y_train)\n",
        "\n",
        "        # Predictions\n",
        "        y_train_pred = svm_model.predict(X_train_scaled)\n",
        "        y_test_pred = svm_model.predict(X_test_scaled)\n",
        "\n",
        "        # Calculate accuracies\n",
        "        train_accuracy = accuracy_score(y_train, y_train_pred)\n",
        "        test_accuracy = accuracy_score(y_test, y_test_pred)\n",
        "\n",
        "        print(f\"Training Accuracy: {train_accuracy:.4f}\")\n",
        "        print(f\"Test Accuracy: {test_accuracy:.4f}\")\n",
        "        print(f\"Gap (Train - Test): {train_accuracy - test_accuracy:.4f}\")\n",
        "\n",
        "        # Classification report\n",
        "        print(\"\\nClassification Report:\")\n",
        "        print(classification_report(y_test, y_test_pred))\n",
        "\n",
        "        # Confusion matrix\n",
        "        print(\"Confusion Matrix:\")\n",
        "        print(confusion_matrix(y_test, y_test_pred))"
      ],
      "metadata": {
        "id": "CieHnHbZvRkm",
        "colab": {
          "base_uri": "https://localhost:8080/"
        },
        "outputId": "0ebc0563-7c55-46b2-c385-de33c1c66670"
      },
      "execution_count": null,
      "outputs": [
        {
          "output_type": "stream",
          "name": "stdout",
          "text": [
            "\n",
            "====== Training SVM with Kernel=rbf, C=1.0 ======\n",
            "Training Accuracy: 0.9792\n",
            "Test Accuracy: 0.9774\n",
            "Gap (Train - Test): 0.0018\n",
            "\n",
            "Classification Report:\n",
            "              precision    recall  f1-score   support\n",
            "\n",
            "           0       0.98      0.99      0.99      3252\n",
            "           1       0.91      0.83      0.87       328\n",
            "\n",
            "    accuracy                           0.98      3580\n",
            "   macro avg       0.95      0.91      0.93      3580\n",
            "weighted avg       0.98      0.98      0.98      3580\n",
            "\n",
            "Confusion Matrix:\n",
            "[[3226   26]\n",
            " [  55  273]]\n",
            "\n",
            "====== Training SVM with Kernel=rbf, C=10.0 ======\n",
            "Training Accuracy: 0.9806\n",
            "Test Accuracy: 0.9779\n",
            "Gap (Train - Test): 0.0027\n",
            "\n",
            "Classification Report:\n",
            "              precision    recall  f1-score   support\n",
            "\n",
            "           0       0.98      0.99      0.99      3252\n",
            "           1       0.91      0.84      0.87       328\n",
            "\n",
            "    accuracy                           0.98      3580\n",
            "   macro avg       0.95      0.92      0.93      3580\n",
            "weighted avg       0.98      0.98      0.98      3580\n",
            "\n",
            "Confusion Matrix:\n",
            "[[3225   27]\n",
            " [  52  276]]\n",
            "\n",
            "====== Training SVM with Kernel=rbf, C=100.0 ======\n",
            "Training Accuracy: 0.9818\n",
            "Test Accuracy: 0.9793\n",
            "Gap (Train - Test): 0.0025\n",
            "\n",
            "Classification Report:\n",
            "              precision    recall  f1-score   support\n",
            "\n",
            "           0       0.99      0.99      0.99      3252\n",
            "           1       0.91      0.86      0.88       328\n",
            "\n",
            "    accuracy                           0.98      3580\n",
            "   macro avg       0.95      0.93      0.94      3580\n",
            "weighted avg       0.98      0.98      0.98      3580\n",
            "\n",
            "Confusion Matrix:\n",
            "[[3224   28]\n",
            " [  46  282]]\n",
            "\n",
            "====== Training SVM with Kernel=sigmoid, C=1.0 ======\n",
            "Training Accuracy: 0.8335\n",
            "Test Accuracy: 0.8355\n",
            "Gap (Train - Test): -0.0020\n",
            "\n",
            "Classification Report:\n",
            "              precision    recall  f1-score   support\n",
            "\n",
            "           0       0.91      0.91      0.91      3252\n",
            "           1       0.10      0.09      0.10       328\n",
            "\n",
            "    accuracy                           0.84      3580\n",
            "   macro avg       0.50      0.50      0.50      3580\n",
            "weighted avg       0.83      0.84      0.83      3580\n",
            "\n",
            "Confusion Matrix:\n",
            "[[2960  292]\n",
            " [ 297   31]]\n",
            "\n",
            "====== Training SVM with Kernel=sigmoid, C=10.0 ======\n",
            "Training Accuracy: 0.8335\n",
            "Test Accuracy: 0.8352\n",
            "Gap (Train - Test): -0.0017\n",
            "\n",
            "Classification Report:\n",
            "              precision    recall  f1-score   support\n",
            "\n",
            "           0       0.91      0.91      0.91      3252\n",
            "           1       0.10      0.09      0.10       328\n",
            "\n",
            "    accuracy                           0.84      3580\n",
            "   macro avg       0.50      0.50      0.50      3580\n",
            "weighted avg       0.83      0.84      0.83      3580\n",
            "\n",
            "Confusion Matrix:\n",
            "[[2959  293]\n",
            " [ 297   31]]\n",
            "\n",
            "====== Training SVM with Kernel=sigmoid, C=100.0 ======\n",
            "Training Accuracy: 0.8334\n",
            "Test Accuracy: 0.8352\n",
            "Gap (Train - Test): -0.0018\n",
            "\n",
            "Classification Report:\n",
            "              precision    recall  f1-score   support\n",
            "\n",
            "           0       0.91      0.91      0.91      3252\n",
            "           1       0.10      0.09      0.10       328\n",
            "\n",
            "    accuracy                           0.84      3580\n",
            "   macro avg       0.50      0.50      0.50      3580\n",
            "weighted avg       0.83      0.84      0.83      3580\n",
            "\n",
            "Confusion Matrix:\n",
            "[[2959  293]\n",
            " [ 297   31]]\n",
            "\n",
            "====== Training SVM with Kernel=linear, C=1.0 ======\n",
            "Training Accuracy: 0.9772\n",
            "Test Accuracy: 0.9788\n",
            "Gap (Train - Test): -0.0015\n",
            "\n",
            "Classification Report:\n",
            "              precision    recall  f1-score   support\n",
            "\n",
            "           0       0.99      0.99      0.99      3252\n",
            "           1       0.90      0.86      0.88       328\n",
            "\n",
            "    accuracy                           0.98      3580\n",
            "   macro avg       0.94      0.93      0.93      3580\n",
            "weighted avg       0.98      0.98      0.98      3580\n",
            "\n",
            "Confusion Matrix:\n",
            "[[3222   30]\n",
            " [  46  282]]\n",
            "\n",
            "====== Training SVM with Kernel=linear, C=10.0 ======\n",
            "Training Accuracy: 0.9772\n",
            "Test Accuracy: 0.9788\n",
            "Gap (Train - Test): -0.0016\n",
            "\n",
            "Classification Report:\n",
            "              precision    recall  f1-score   support\n",
            "\n",
            "           0       0.99      0.99      0.99      3252\n",
            "           1       0.90      0.86      0.88       328\n",
            "\n",
            "    accuracy                           0.98      3580\n",
            "   macro avg       0.94      0.93      0.93      3580\n",
            "weighted avg       0.98      0.98      0.98      3580\n",
            "\n",
            "Confusion Matrix:\n",
            "[[3222   30]\n",
            " [  46  282]]\n",
            "\n",
            "====== Training SVM with Kernel=linear, C=100.0 ======\n",
            "Training Accuracy: 0.9772\n",
            "Test Accuracy: 0.9788\n",
            "Gap (Train - Test): -0.0016\n",
            "\n",
            "Classification Report:\n",
            "              precision    recall  f1-score   support\n",
            "\n",
            "           0       0.99      0.99      0.99      3252\n",
            "           1       0.90      0.86      0.88       328\n",
            "\n",
            "    accuracy                           0.98      3580\n",
            "   macro avg       0.94      0.93      0.93      3580\n",
            "weighted avg       0.98      0.98      0.98      3580\n",
            "\n",
            "Confusion Matrix:\n",
            "[[3222   30]\n",
            " [  46  282]]\n"
          ]
        }
      ]
    },
    {
      "cell_type": "markdown",
      "source": [
        "\"\"\"\n",
        "## **12. Evaluate Model Performance Using Confusion Matrix**\n",
        "### Compute and visualize the Confusion Matrix.\n",
        "\"\"\""
      ],
      "metadata": {
        "id": "bgAGsmxVvSEH"
      }
    },
    {
      "cell_type": "code",
      "source": [
        "from sklearn.svm import SVC\n",
        "from sklearn.metrics import accuracy_score, classification_report\n",
        "\n",
        "kernels = ['rbf', 'sigmoid','linear']\n",
        "c_values = [1.0, 10.0, 100.0]\n",
        "\n",
        "for kernel in kernels:\n",
        "    for c in c_values:\n",
        "        print(f\"\\n====== Training SVM with Kernel={kernel}, C={c} ======\")\n",
        "\n",
        "        # Initialize and train SVM\n",
        "        svm_model = SVC(kernel=kernel, C=c, random_state=42)\n",
        "        svm_model.fit(X_train_scaled, y_train)\n",
        "\n",
        "        # Predictions\n",
        "        y_train_pred = svm_model.predict(X_train_scaled)\n",
        "        y_test_pred = svm_model.predict(X_test_scaled)\n",
        "\n",
        "        # Calculate accuracies\n",
        "        train_accuracy = accuracy_score(y_train, y_train_pred)\n",
        "        test_accuracy = accuracy_score(y_test, y_test_pred)\n",
        "\n",
        "\n",
        "        print(\"Confusion Matrix of kernel \" ,kernel,\" with c: \",c )\n",
        "        print(confusion_matrix(y_test, y_test_pred))\n",
        "\n"
      ],
      "metadata": {
        "id": "OIx6nOCbvcUV",
        "colab": {
          "base_uri": "https://localhost:8080/"
        },
        "outputId": "84d813b9-8e3b-49aa-9ccc-659b58578a42"
      },
      "execution_count": null,
      "outputs": [
        {
          "output_type": "stream",
          "name": "stdout",
          "text": [
            "\n",
            "====== Training SVM with Kernel=rbf, C=1.0 ======\n",
            "Confusion Matrix of kernel  rbf  with c:  1.0\n",
            "[[3226   26]\n",
            " [  55  273]]\n",
            "\n",
            "====== Training SVM with Kernel=rbf, C=10.0 ======\n",
            "Confusion Matrix of kernel  rbf  with c:  10.0\n",
            "[[3225   27]\n",
            " [  52  276]]\n",
            "\n",
            "====== Training SVM with Kernel=rbf, C=100.0 ======\n",
            "Confusion Matrix of kernel  rbf  with c:  100.0\n",
            "[[3224   28]\n",
            " [  46  282]]\n",
            "\n",
            "====== Training SVM with Kernel=sigmoid, C=1.0 ======\n",
            "Confusion Matrix of kernel  sigmoid  with c:  1.0\n",
            "[[2960  292]\n",
            " [ 297   31]]\n",
            "\n",
            "====== Training SVM with Kernel=sigmoid, C=10.0 ======\n",
            "Confusion Matrix of kernel  sigmoid  with c:  10.0\n",
            "[[2959  293]\n",
            " [ 297   31]]\n",
            "\n",
            "====== Training SVM with Kernel=sigmoid, C=100.0 ======\n",
            "Confusion Matrix of kernel  sigmoid  with c:  100.0\n",
            "[[2959  293]\n",
            " [ 297   31]]\n",
            "\n",
            "====== Training SVM with Kernel=linear, C=1.0 ======\n",
            "Confusion Matrix of kernel  linear  with c:  1.0\n",
            "[[3222   30]\n",
            " [  46  282]]\n",
            "\n",
            "====== Training SVM with Kernel=linear, C=10.0 ======\n",
            "Confusion Matrix of kernel  linear  with c:  10.0\n",
            "[[3222   30]\n",
            " [  46  282]]\n",
            "\n",
            "====== Training SVM with Kernel=linear, C=100.0 ======\n",
            "Confusion Matrix of kernel  linear  with c:  100.0\n",
            "[[3222   30]\n",
            " [  46  282]]\n"
          ]
        }
      ]
    },
    {
      "cell_type": "markdown",
      "source": [
        "\"\"\"\n",
        "### **Final Task: Answer the following questions in markdown cells.**\n",
        "1. What is the effect of increasing the C value on the SVM model?\n",
        "2. Why does the linear kernel perform differently than the RBF kernel?\n",
        "3. How does feature scaling impact SVM performance?\n",
        "4. What happens if we don’t handle outliers before training an SVM model?\n",
        "5. Explain the concept of soft-margin SVM and why it is useful in handling noisy data.\n",
        "6. Why does the sigmoid kernel perform poorly compared to other kernels?\n",
        "7. What does the confusion matrix reveal about the model’s predictions?\n",
        "\n",
        "---"
      ],
      "metadata": {
        "id": "YxkTv4Kbvc77"
      }
    },
    {
      "cell_type": "markdown",
      "source": [
        "Question 1.\n",
        "\n",
        "Observations derived:\n",
        "\n",
        "Test Accuracy Improvement:\n",
        "\n",
        "1. C=1: Test accuracy = 0.9774\n",
        "C=100: Test accuracy = 0.9793 (a slight improvement of +0.0019).\n",
        "\n",
        "\n",
        "2. Impact on Class 1 (Minority Class):\n",
        "Recall (True Positive Rate):\n",
        "Increases from 0.83 (C=1) to 0.86 (C=100).\n",
        "Precision:\n",
        "Remains stable (~0.91).\n",
        "F1-Score:\n",
        "Improves from 0.87 to 0.88.\n",
        "\n",
        "\n",
        "3. Confusion Matrix Changes:\n",
        "False Negatives (Class 1 misclassified as Class 0):\n",
        "Decreases from 55 (C=1) to 46 (C=100).\n",
        "False Positives (Class 0 misclassified as Class 1):\n",
        "Slight increase from 26 (C=1) to 28 (C=100).\n",
        "\n",
        "\n",
        "Key Understandings Devolved:\n",
        "\n",
        "1. Higher C = Stricter Margin:\n",
        "A larger C penalizes misclassifications more, leading the SVM to prioritize correctly classifying difficult  points, even if it means a narrower margin.\n",
        "This helps slightly in improving recall for the minority class (Class 1) but may slightly increase false positives for the majority class (Class 0).\n",
        "\n",
        "2. Diminishing Returns:\n",
        "The improvement from C=1 to C=100 is marginal, suggesting that beyond a certain point, increasing C may not significantly improve performance (and could risk overfitting if pushed too far)."
      ],
      "metadata": {
        "id": "q50_PjduRwK2"
      }
    },
    {
      "cell_type": "markdown",
      "source": [
        "Question 2.\n",
        "\n",
        "(A) Linear Kernel\n",
        "\n",
        "* It Assumes linear separability in the original feature space.\n",
        "\n",
        "* Works well when:\n",
        "Features have a linear relationship with the target.\n",
        "Data is high-dimensional but separable by a hyperplane (e.g., text data).\n",
        "\n",
        "* The reason why it is stable across C values:\n",
        "\n",
        "The optimal decision boundary does not change much with C because the data is already well-separated.\n",
        "Increasing C does not force the model to fit outliers since the margin is already optimal.\n",
        "\n",
        "* Linear Kernel may underfit if data requires non-linear separation.\n",
        "\n",
        "* Formula for Linear Kenel Decision Boundary Calculation: (K(x, y) = x · y)\n",
        "\n",
        "\n",
        "\n",
        "(B) RBF Kernel\n",
        "\n",
        "* Captures non-linear relationships by mapping data to higher dimensions.\n",
        "\n",
        "* A higher C reduces the margin, allowing the model to fit more support vectors (including harder samples).\n",
        "This helps slightly improve recall for Class 1 (from 0.83 to 0.86).\n",
        "\n",
        "* The reason why it doesn't outperform linear by much:\n",
        "The data may not have strong non-linear patterns, so RBF’s flexibility doesn’t provide a big advantage.\n",
        "\n",
        "* If γ (gamma) is not tuned, RBF may not exploit its full potential.\n",
        "\n",
        "* Formula for RBF Kernel Decision Boundary Calculation: (K(x, y) = exp(-γ ||x - y||²))"
      ],
      "metadata": {
        "id": "vdmRrck4UANp"
      }
    },
    {
      "cell_type": "markdown",
      "source": [
        "Question 3.\n",
        "\n",
        "1. Distance-Based Optimization (for Linear & RBF Kernels)\n",
        "\n",
        "* SVMs aim to maximize the margin.\n",
        "If features are on different scales, features with larger magnitudes dominate the distance calculations (e.g., Euclidean distance in RBF kernels), leading to biased or suboptimal decision boundaries.\n",
        "* Example: If Feature A ranges in [0, 1000] and Feature B ranges in [0, 1], Feature A will disproportionately influence the model.\n",
        "\n",
        "\n",
        "2. Impact on Gradient Descent (for Linear SVM Solvers)\n",
        "\n",
        "* Many SVM implementations (e.g., sklearn.svm.SVC) use gradient-based optimization. Unscaled features can cause:\n",
        "* Slow convergence (due to ill-conditioned optimization landscapes).\n",
        "Numerical instability (e.g., large feature values may cause overflow/underflow).\n",
        "\n",
        "3. Kernel Performance (Especially RBF)\n",
        "\n",
        "* The RBF kernel (Gaussian kernel) is highly sensitive to feature scales because it computes distances as:\n",
        "\n",
        "(K(x, y) = exp(-γ ||x - y||²))\n",
        "\n",
        "\n",
        "* Unscaled features make distances dominated by high-magnitude features, rendering the kernel ineffective.\n",
        "\n",
        "* Scaling ensures all features contribute equally to the kernel similarity measure.\n"
      ],
      "metadata": {
        "id": "L8jIvrcMYO6P"
      }
    },
    {
      "cell_type": "markdown",
      "source": [
        "Question 4.\n",
        "\n",
        "1. Distorted Decision Boundary\n",
        "\n",
        "* SVMs aim to maximize the margin (distance between classes). Outliers can:\n",
        "Pull the decision boundary toward themselves, forcing the SVM to misclassify other points to accommodate them.\n",
        "* It might create a suboptimal hyperplane that generalizes poorly to new data.\n",
        "\n",
        "\n",
        "2.  Misleading Support Vectors\n",
        "\n",
        "* Support vectors define the decision boundary.\n",
        "\n",
        "* Outliers can:\n",
        "Become artificial support vectors, even if they’re noise.\n",
        "Skew the margin width, leading to overfitting (if the model tries to fit outliers) or underfitting (if the margin becomes too wide to avoid outliers).\n",
        "\n",
        "3. Sensitivity to Regularization (C)\n",
        "\n",
        "* The C parameter controls how much misclassifications are penalized:\n",
        "High C: SVM tries to classify all points correctly, including outliers → overfitting.\n",
        "* Low C: SVM tolerates outliers but may underfit by ignoring legitimate patterns.\n",
        "* Unhandled outliers make tuning C harder, as the model’s behavior becomes unpredictable.\n",
        "\n",
        "\n"
      ],
      "metadata": {
        "id": "ERs5C9LWAa-r"
      }
    },
    {
      "cell_type": "markdown",
      "source": [
        "Question 5.\n",
        "\n",
        "Traditional Hard-Margin SVM needs data to be perfectly linearly separable, but real-world datasets often contain noise, outliers, or overlapping classes. The Soft-Margin SVM relaxes this strict requirement by allowing some misclassifications, improving robustness.\n",
        "\n",
        "oft-Margin SVM modifies the original hard-margin objective by introducing slack variables (ξᵢ) that measure how much a data point violates the margin:\n",
        "\n",
        "![Screenshot 2025-04-02 at 7.28.53 PM.png](data:image/png;base64,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)\n",
        "\n",
        "where:\n",
        "\n",
        "ξᵢ (slack variable):\n",
        "\n",
        "ξᵢ = 0 → Point is correctly classified outside the margin.\n",
        "\n",
        "0 < ξᵢ ≤ 1 → Point lies inside the margin but on the correct side.\n",
        "\n",
        "ξᵢ > 1 → Point is misclassified.\n",
        "\n",
        "C (regularization parameter):\n",
        "\n",
        "Controls the trade-off between maximizing the margin and minimizing misclassifications.\n",
        "\n",
        "Small C: Prioritizes a wide margin (more misclassifications allowed).\n",
        "\n",
        "Large C: Strictly penalizes misclassifications (narrower margin, risk of overfitting).\n",
        "\n",
        "\n",
        "**Below are the reasons why soft margin svm is used for noisy data:**\n",
        "\n",
        "It handles Non-Separable Data\n",
        "* Hard-Margin SVM fails if classes overlap. Soft-Margin allows some * errors, making it applicable to real-world datasets.\n",
        "\n",
        "It is robust to Outliers and Noise\n",
        "\n",
        "* Mislabeled or extreme points no longer force the SVM to fit them perfectly. Slack variables absorb their impact.\n",
        "\n",
        "It has a Controlled Flexibility through C\n",
        "\n",
        "* Low C: Tolerates more errors (better for noisy data).\n",
        "\n",
        "* High C: Behaves like Hard-Margin SVM (risk of fitting noise).\n",
        "\n",
        "It works Better with Kernels\n",
        "\n",
        "* Even in high-dimensional spaces (e.g., RBF kernel), soft-margin prevents overfitting to spurious patterns.\n"
      ],
      "metadata": {
        "id": "kkrFprdBAbGO"
      }
    },
    {
      "cell_type": "markdown",
      "source": [
        "Question 6.\n",
        "\n",
        "A. Hyperparameter Sensitivity\n",
        "\n",
        "The sigmoid kernel's performance heavily depends on tuning\n",
        "γ\n",
        " and\n",
        "r:\n",
        "\n",
        "\n",
        "If\n",
        "γ is too small, the kernel behaves almost linearly.\n",
        "If γ is too large, it becomes saturated (outputs near -1 or +1), losing discriminative power.\n",
        "The intercept r further complicates optimization.\n",
        "\n",
        "\n",
        "B. Poor Generalization\n",
        "\n",
        "The sigmoid kernel tends to overfit on small datasets and underfit on large ones. Unlike RBF (universal kernel) or polynomial (flexible with degree), it lacks consistent adaptability.\n",
        "\n",
        "\n",
        "C. Numerical Instability\n",
        "\n",
        "For inputs far from the origin, gradients vanish, making optimization slow or stuck in poor local minima."
      ],
      "metadata": {
        "id": "oO6m7z6JAbMv"
      }
    },
    {
      "cell_type": "markdown",
      "source": [
        "Question 7.\n",
        "\n",
        "1. RBF Kernel (Gives the Best Performance)\n",
        "\n",
        "Trend with Increasing C (1 → 100) goes like this:\n",
        "\n",
        "Minority Class (1):\n",
        "False Negatives (FN) decrease (55 to 46): Higher value of C reduces misclassifications of class \"1\" (better recall).\n",
        "\n",
        "True Positives (TP) increase (273 to 282): Model becomes more aggressive in predicting class \"1\".\n",
        "\n",
        "Majority Class (0):\n",
        "False Positives (FP) increase slightly (26 to 28): Trade-off for better minority-class recall.\n",
        "\n",
        "Understanding:\n",
        "RBF adapts well to the data, and increasing C (stricter margin) improves minority-class performance without significant overfitting (test accuracy remains stable ~97.8%).\n",
        "\n",
        "2. Sigmoid Kernel (Consistently bad over all values of C)\n",
        "\n",
        "Consistently Poor Across All C:\n",
        "Majority Class (0):\n",
        "High False Positive (292–293): ~9% of class \"0\" are misclassified as \"1\".\n",
        "Minority Class (1):\n",
        "Extremely high FN (297): ~90% of class \"1\" are misclassified as \"0\".\n",
        "TP remains near-zero (31): The model effectively ignores the minority class.\n",
        "\n",
        "Understanding/Conclusion:\n",
        "The sigmoid kernel cannot model the decision boundary for the above data. It defaults to predicting the majority class (\"0\"), behaving like a random guess for class \"1\". Changing C has no effect because the kernel itself is the bottleneck.\n",
        "\n",
        "3. Linear Kernel (Stable but Less Flexible than RBF)\n",
        "\n",
        "It is Unaffected by C:\n",
        "Identical confusion matrices across all C values.\n",
        "Minority Class (1):\n",
        "False Negatives=46, TP=282: Better than RBF at C=1, but doesn’t improve further.\n",
        "Majority Class (0):\n",
        "False Positives=30: Slightly worse than RBF at high C.\n",
        "\n",
        "Understanding/Copnclusion:\n",
        "The data almost-linearly separable, so a linear kernel works well. However, RBF’s flexibility allows it to outperform linear as C increases.\n"
      ],
      "metadata": {
        "id": "_a_c6CF6lgr1"
      }
    },
    {
      "cell_type": "code",
      "source": [],
      "metadata": {
        "id": "wc6ISYCtW953"
      },
      "execution_count": null,
      "outputs": []
    }
  ]
}